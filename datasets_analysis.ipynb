{
 "cells": [
  {
   "cell_type": "code",
   "execution_count": null,
   "metadata": {
    "colab": {
     "base_uri": "https://localhost:8080/",
     "height": 35
    },
    "colab_type": "code",
    "id": "Mhk8Nmy9gl_i",
    "outputId": "9be11e33-9df6-4808-d9b8-8eab6dd9b370"
   },
   "outputs": [],
   "source": [
    "import os\n",
    "import numpy\n",
    "print (numpy.__path__) # checking the venv is loaded\n",
    "from matplotlib import pyplot as plt\n",
    "import cv2"
   ]
  },
  {
   "cell_type": "code",
   "execution_count": null,
   "metadata": {
    "colab": {
     "base_uri": "https://localhost:8080/",
     "height": 331
    },
    "colab_type": "code",
    "id": "5jyAbdHDgl_x",
    "outputId": "c3bdc83e-1495-45c8-d6a9-e0d6ecbe74c7"
   },
   "outputs": [],
   "source": [
    "# downloading the first dataset ~800 samples\n",
    "! wget https://github.com/belarbi2733/keras_yolov3/releases/download/1/defi1certif-datasets-fire_small.tar"
   ]
  },
  {
   "cell_type": "code",
   "execution_count": null,
   "metadata": {
    "colab": {},
    "colab_type": "code",
    "id": "MjdM6QFegl_9"
   },
   "outputs": [],
   "source": [
    "datasets_path = \"datasets\"\n",
    "if os.path.exists(datasets_path) == False:\n",
    "    os.makedirs(datasets_path)"
   ]
  },
  {
   "cell_type": "code",
   "execution_count": null,
   "metadata": {
    "colab": {},
    "colab_type": "code",
    "id": "DpaJ-2JUgmAE"
   },
   "outputs": [],
   "source": [
    "# put the small dataset in datasets/small \n",
    "!tar xf defi1certif-datasets-fire_small.tar -C 'datasets' --one-top-level && mv datasets/defi1certif-datasets-fire_small datasets/small"
   ]
  },
  {
   "cell_type": "code",
   "execution_count": null,
   "metadata": {
    "colab": {
     "base_uri": "https://localhost:8080/",
     "height": 35
    },
    "colab_type": "code",
    "id": "IfaVtZlsgmAL",
    "outputId": "4b210dfa-c641-44db-f6ba-9fc2bbd9fc83"
   },
   "outputs": [],
   "source": [
    "# the dataset is composed of three folders, each containing images with the same label (name of the folder)\n",
    "!ls datasets/small"
   ]
  },
  {
   "cell_type": "code",
   "execution_count": null,
   "metadata": {
    "colab": {},
    "colab_type": "code",
    "id": "DjCrzGN2gmAT"
   },
   "outputs": [],
   "source": [
    "# creating a list with the classes names\n",
    "classes = ['fire', 'no_fire', 'start_fire']"
   ]
  },
  {
   "cell_type": "code",
   "execution_count": null,
   "metadata": {
    "colab": {
     "base_uri": "https://localhost:8080/",
     "height": 35
    },
    "colab_type": "code",
    "id": "Ly9GXFA6gmAZ",
    "outputId": "f10220f2-905d-4037-b8e3-ec6b4a67fb8f"
   },
   "outputs": [],
   "source": [
    "!ls"
   ]
  },
  {
   "cell_type": "code",
   "execution_count": null,
   "metadata": {
    "colab": {
     "base_uri": "https://localhost:8080/",
     "height": 743
    },
    "colab_type": "code",
    "id": "rQQPm2vJgmAf",
    "outputId": "aa7c4ca8-eca3-4d1f-9aa3-905abe81de50"
   },
   "outputs": [],
   "source": [
    "# taking a look at the images and checking their size\n",
    "\n",
    "fire_image_path = \"datasets/small/fire/00000090.jpg\"\n",
    "no_fire_image_path = \"datasets/small/no_fire/00000185.jpg\"\n",
    "start_fire_image_path = \"datasets/small/start_fire/00000094.jpg\"\n",
    "\n",
    "fire_image = cv2.imread(fire_image_path)\n",
    "fire_image = cv2.cvtColor(fire_image, cv2.COLOR_BGR2RGB)\n",
    "\n",
    "plt.imshow(fire_image)\n",
    "plt.show()\n",
    "\n",
    "no_fire_image = cv2.imread(no_fire_image_path)\n",
    "no_fire_image = cv2.cvtColor(no_fire_image, cv2.COLOR_BGR2RGB)\n",
    "\n",
    "plt.imshow(no_fire_image)\n",
    "plt.show()\n",
    "\n",
    "start_fire_image = cv2.imread(start_fire_image_path)\n",
    "start_fire_image = cv2.cvtColor(start_fire_image, cv2.COLOR_BGR2RGB)\n",
    "\n",
    "plt.imshow(start_fire_image)\n",
    "plt.show()"
   ]
  },
  {
   "cell_type": "code",
   "execution_count": null,
   "metadata": {
    "colab": {},
    "colab_type": "code",
    "id": "fmN_l_jngmAm"
   },
   "outputs": [],
   "source": [
    "# from our analysis, all the images are different sizes and may contain people or animals\n",
    "# however these are overwhelmingly pictures taken in woods\n",
    "# a very important thing is that start_fire seems to contain pictures of smoky or misty environments which may not be fire"
   ]
  },
  {
   "cell_type": "code",
   "execution_count": null,
   "metadata": {
    "colab": {
     "base_uri": "https://localhost:8080/",
     "height": 919
    },
    "colab_type": "code",
    "id": "NsGMyaxEgmAt",
    "outputId": "b33948f4-6a08-4bdb-c06b-e55903e104b7"
   },
   "outputs": [],
   "source": [
    "! wget https://github.com/belarbi2733/keras_yolov3/releases/download/1/defi1certif-datasets-fire_medium.tar.001\n",
    "! wget https://github.com/belarbi2733/keras_yolov3/releases/download/1/defi1certif-datasets-fire_medium.tar.002\n",
    "! wget https://github.com/belarbi2733/keras_yolov3/releases/download/1/defi1certif-datasets-fire_medium.tar.003"
   ]
  },
  {
   "cell_type": "code",
   "execution_count": null,
   "metadata": {
    "colab": {},
    "colab_type": "code",
    "id": "H1-jmpqQgoK4"
   },
   "outputs": [],
   "source": [
    "# recombine the tar files\n",
    "!cat  defi1certif-datasets-fire_medium.tar.001 defi1certif-datasets-fire_medium.tar.002 defi1certif-datasets-fire_medium.tar.003 >> defi1certif-datasets-fire_medium.tar"
   ]
  },
  {
   "cell_type": "markdown",
   "metadata": {
    "colab_type": "text",
    "id": "og5Km9fP11P2"
   },
   "source": []
  },
  {
   "cell_type": "code",
   "execution_count": null,
   "metadata": {
    "colab": {},
    "colab_type": "code",
    "id": "vnUP9MWHsMVp"
   },
   "outputs": [],
   "source": [
    "# put the medium dataset in datasets/medium\n",
    "!tar xf defi1certif-datasets-fire_medium.tar -C 'datasets' --one-top-level && mv datasets/defi1certif-datasets-fire_medium datasets/medium"
   ]
  },
  {
   "cell_type": "code",
   "execution_count": null,
   "metadata": {
    "colab": {
     "base_uri": "https://localhost:8080/",
     "height": 35
    },
    "colab_type": "code",
    "id": "lT20ByBEhT5V",
    "outputId": "4004d06b-ec90-4450-c4e1-2ad7427283c1"
   },
   "outputs": [],
   "source": [
    "!ls datasets/medium"
   ]
  },
  {
   "cell_type": "code",
   "execution_count": null,
   "metadata": {
    "colab": {
     "base_uri": "https://localhost:8080/",
     "height": 715
    },
    "colab_type": "code",
    "id": "j33jm1lIhXGw",
    "outputId": "b8697ca3-7ee3-4487-ca80-63d5992ec8d7"
   },
   "outputs": [],
   "source": [
    "# taking a look at the images and checking their size\n",
    "\n",
    "fire_image_path = \"datasets/medium/fire/yosemite (13).png\"\n",
    "no_fire_image_path = \"datasets/medium/no_fire/tumblr_ohha8jH8dr1rs81xfo1_500.jpg\"\n",
    "start_fire_image_path = \"datasets/medium/start_fire/SmokeDogHead (101).png\"\n",
    "\n",
    "fire_image = cv2.imread(fire_image_path)\n",
    "fire_image = cv2.cvtColor(fire_image, cv2.COLOR_BGR2RGB)\n",
    "\n",
    "plt.imshow(fire_image)\n",
    "plt.show()\n",
    "\n",
    "no_fire_image = cv2.imread(no_fire_image_path)\n",
    "no_fire_image = cv2.cvtColor(no_fire_image, cv2.COLOR_BGR2RGB)\n",
    "\n",
    "plt.imshow(no_fire_image)\n",
    "plt.show()\n",
    "\n",
    "start_fire_image = cv2.imread(start_fire_image_path)\n",
    "start_fire_image = cv2.cvtColor(start_fire_image, cv2.COLOR_BGR2RGB)\n",
    "\n",
    "plt.imshow(start_fire_image)\n",
    "plt.show()"
   ]
  },
  {
   "cell_type": "code",
   "execution_count": null,
   "metadata": {
    "colab": {},
    "colab_type": "code",
    "id": "LU1xmqEDoWC5"
   },
   "outputs": [],
   "source": [
    "# images seem to be more real-world oriented but look more complicated"
   ]
  },
  {
   "cell_type": "code",
   "execution_count": null,
   "metadata": {
    "colab": {},
    "colab_type": "code",
    "id": "v1wgIj5SomFa"
   },
   "outputs": [],
   "source": [
    "# folder to merge datasets\n",
    "! mkdir datasets/all/ datasets/all/fire datasets/all/no_fire datasets/all/start_fire"
   ]
  },
  {
   "cell_type": "code",
   "execution_count": null,
   "metadata": {
    "colab": {
     "base_uri": "https://localhost:8080/",
     "height": 54
    },
    "colab_type": "code",
    "id": "qxlxmRQZtG12",
    "outputId": "d47cc786-2e3d-4f00-c8ae-8e745b14f4cf"
   },
   "outputs": [],
   "source": [
    "! find datasets/small/fire -type f -print0 | xargs -0 mv -t datasets/all/fire/\n",
    "! find datasets/small/no_fire -type f -print0 | xargs -0 mv -t datasets/all/no_fire/\n",
    "! find datasets/small/start_fire -type f -print0 | xargs -0 mv -t datasets/all/start_fire/"
   ]
  },
  {
   "cell_type": "code",
   "execution_count": null,
   "metadata": {
    "colab": {},
    "colab_type": "code",
    "id": "Mw546j9Ep_Y9"
   },
   "outputs": [],
   "source": [
    "! find datasets/medium/fire -type f -print0 | xargs -0 mv -t datasets/all/fire/\n",
    "! find datasets/medium/no_fire -type f -print0 | xargs -0 mv -t datasets/all/no_fire/\n",
    "! find datasets/medium/start_fire -type f -print0 | xargs -0 mv -t datasets/all/start_fire/"
   ]
  },
  {
   "cell_type": "code",
   "execution_count": null,
   "metadata": {
    "colab": {
     "base_uri": "https://localhost:8080/",
     "height": 146
    },
    "colab_type": "code",
    "id": "3OJPL1isqEXk",
    "outputId": "294da1f9-82da-400f-aff0-d7ac142d7372"
   },
   "outputs": [],
   "source": [
    "!ls -li datasets/all\n",
    "!ls -1 datasets/all/fire | wc -l\n",
    "!ls -1 datasets/all/no_fire | wc -l\n",
    "!ls -1 datasets/all/start_fire | wc -l"
   ]
  },
  {
   "cell_type": "code",
   "execution_count": null,
   "metadata": {
    "colab": {},
    "colab_type": "code",
    "id": "W0zdxvpvt1GQ"
   },
   "outputs": [],
   "source": [
    "# total is ~4000 images"
   ]
  },
  {
   "cell_type": "code",
   "execution_count": null,
   "metadata": {
    "colab": {},
    "colab_type": "code",
    "id": "5JfDeR7ZuUn7"
   },
   "outputs": [],
   "source": []
  }
 ],
 "metadata": {
  "colab": {
   "collapsed_sections": [],
   "name": "datasets-analysis.ipynb",
   "provenance": []
  },
  "kernelspec": {
   "display_name": "Python 3 (ipykernel)",
   "language": "python",
   "name": "python3"
  },
  "language_info": {
   "codemirror_mode": {
    "name": "ipython",
    "version": 3
   },
   "file_extension": ".py",
   "mimetype": "text/x-python",
   "name": "python",
   "nbconvert_exporter": "python",
   "pygments_lexer": "ipython3",
   "version": "3.11.4"
  }
 },
 "nbformat": 4,
 "nbformat_minor": 1
}
